{
 "cells": [
  {
   "cell_type": "code",
   "execution_count": 11,
   "id": "f4d15f1d-7167-4d8a-a1c1-5d6ad702c413",
   "metadata": {},
   "outputs": [],
   "source": [
    "from bs4 import BeautifulSoup\n",
    "import requests\n",
    "import networkx as nx\n",
    "from urllib.parse import urljoin\n",
    "from tqdm import tqdm"
   ]
  },
  {
   "cell_type": "markdown",
   "id": "d7ec0b46-905c-4bed-b329-7dbc37322c4a",
   "metadata": {},
   "source": [
    "## Pull the data that shows the relationships between types"
   ]
  },
  {
   "cell_type": "code",
   "execution_count": 2,
   "id": "3c023457-dabd-49fb-843b-5b7b4613b22b",
   "metadata": {},
   "outputs": [
    {
     "name": "stdout",
     "output_type": "stream",
     "text": [
      "200\n"
     ]
    }
   ],
   "source": [
    "# Target web page\n",
    "home_url = \"https://pokemondb.net\"\n",
    "\n",
    "#Connection to web page\n",
    "response = requests.get(home_url)\n",
    "print(response.status_code)\n",
    "\n",
    "# Convert the response HTLM string into a python string\n",
    "html = response.text\n",
    "\n",
    "soup = BeautifulSoup(response.content, 'lxml')"
   ]
  },
  {
   "cell_type": "code",
   "execution_count": 3,
   "id": "636642b2-2487-4466-a7f3-59a847d08a84",
   "metadata": {},
   "outputs": [],
   "source": [
    "type_links = soup.find_all(\"a\", class_=\"type-icon\", href=True)"
   ]
  },
  {
   "cell_type": "code",
   "execution_count": 4,
   "id": "34f64e39-e81e-4f5a-9203-7c04dbd581bf",
   "metadata": {},
   "outputs": [],
   "source": [
    "type_info = {}\n",
    "for type_link in type_links:\n",
    "    pk_type = type_link.text\n",
    "    url = urljoin(home_url, type_link[\"href\"])\n",
    "    type_info[pk_type] = {\"url\": url}"
   ]
  },
  {
   "cell_type": "code",
   "execution_count": 5,
   "id": "5e8c470c-e325-4eed-8b85-d6d23db02e00",
   "metadata": {},
   "outputs": [
    {
     "data": {
      "text/plain": [
       "{'url': 'https://pokemondb.net/type/normal'}"
      ]
     },
     "execution_count": 5,
     "metadata": {},
     "output_type": "execute_result"
    }
   ],
   "source": [
    "type_info[\"Normal\"]"
   ]
  },
  {
   "cell_type": "code",
   "execution_count": 8,
   "id": "db32829b-0f06-48d3-9cc4-16bd6f7297bd",
   "metadata": {},
   "outputs": [
    {
     "name": "stderr",
     "output_type": "stream",
     "text": [
      "100%|█████████████████████████████████████████████████████████████████████████████████████| 18/18 [00:05<00:00,  3.42it/s]\n"
     ]
    }
   ],
   "source": [
    "for pk_type, info in tqdm(type_info.items(), total=len(type_info)):\n",
    "    response = requests.get(info[\"url\"])\n",
    "\n",
    "    # Convert the response HTLM string into a python string\n",
    "    html = response.text\n",
    "    soup = BeautifulSoup(response.content, 'lxml')\n",
    "    \n",
    "    # ok going to be gross here, basically want to just loop through each pair of these since they go together like that\n",
    "    # for example, for [a, b, c, d], want [a, b], [c, d]\n",
    "    all_ps = soup.find_all(\"div\", class_=\"grid-col\")[1].find_all('p')\n",
    "    iterator = iter(all_ps)\n",
    "    num_rows = len(all_ps)\n",
    "\n",
    "    structs = []\n",
    "    try:\n",
    "        while True:\n",
    "            list_type_text = next(iterator).text\n",
    "            if \"are super-effective\" in list_type_text:\n",
    "                list_type = \"super_effective\"\n",
    "            elif \"are not very effective\" in list_type_text:\n",
    "                list_type = \"not_very_effective\"\n",
    "            elif \"have no effect\" in list_type_text:\n",
    "                list_type = \"no_effect\"\n",
    "            else:\n",
    "                list_type = \"unknown\"\n",
    "\n",
    "            pk_types = next(iterator).text.strip().split(\" \")\n",
    "            structs.append((list_type, pk_types))\n",
    "    except StopIteration:\n",
    "        pass\n",
    "    \n",
    "    type_info[pk_type][\"attacks\"] = structs"
   ]
  },
  {
   "cell_type": "code",
   "execution_count": 9,
   "id": "7d6a0c88-8beb-4b61-a090-573d133db110",
   "metadata": {},
   "outputs": [
    {
     "data": {
      "text/plain": [
       "{'url': 'https://pokemondb.net/type/rock',\n",
       " 'attacks': [('super_effective', ['Fire', 'Ice', 'Flying', 'Bug']),\n",
       "  ('not_very_effective', ['Fighting', 'Ground', 'Steel'])]}"
      ]
     },
     "execution_count": 9,
     "metadata": {},
     "output_type": "execute_result"
    }
   ],
   "source": [
    "type_info[\"Rock\"]"
   ]
  },
  {
   "cell_type": "markdown",
   "id": "31952a61-e883-460a-a94e-b438fca6ef02",
   "metadata": {},
   "source": [
    "## Now create the graph"
   ]
  },
  {
   "cell_type": "code",
   "execution_count": 12,
   "id": "32c36064-8c8e-40ea-adbd-45c204769031",
   "metadata": {},
   "outputs": [],
   "source": [
    "graph = nx.DiGraph()"
   ]
  },
  {
   "cell_type": "code",
   "execution_count": 14,
   "id": "296744c4-99b6-4f0f-a938-ea5f09e790ed",
   "metadata": {},
   "outputs": [],
   "source": [
    "for pk_type, info in type_info.items():\n",
    "    for effectiveness, pk_types in info[\"attacks\"]:\n",
    "        if effectiveness == \"super_effective\":\n",
    "            for effective_pk_type in pk_types:\n",
    "                graph.add_edge(pk_type, effective_pk_type)"
   ]
  },
  {
   "cell_type": "code",
   "execution_count": 17,
   "id": "39c33e89-d899-4602-8430-ed7d7abff919",
   "metadata": {},
   "outputs": [
    {
     "data": {
      "text/plain": [
       "OutEdgeView([('Fire', 'Grass'), ('Fire', 'Ice'), ('Fire', 'Bug'), ('Fire', 'Steel'), ('Grass', 'Water'), ('Grass', 'Ground'), ('Grass', 'Rock'), ('Ice', 'Grass'), ('Ice', 'Ground'), ('Ice', 'Flying'), ('Ice', 'Dragon'), ('Bug', 'Grass'), ('Bug', 'Psychic'), ('Bug', 'Dark'), ('Steel', 'Ice'), ('Steel', 'Rock'), ('Steel', 'Fairy'), ('Water', 'Fire'), ('Water', 'Ground'), ('Water', 'Rock'), ('Ground', 'Fire'), ('Ground', 'Electric'), ('Ground', 'Poison'), ('Ground', 'Rock'), ('Ground', 'Steel'), ('Rock', 'Fire'), ('Rock', 'Ice'), ('Rock', 'Flying'), ('Rock', 'Bug'), ('Electric', 'Water'), ('Electric', 'Flying'), ('Flying', 'Grass'), ('Flying', 'Fighting'), ('Flying', 'Bug'), ('Dragon', 'Dragon'), ('Fighting', 'Normal'), ('Fighting', 'Ice'), ('Fighting', 'Rock'), ('Fighting', 'Dark'), ('Fighting', 'Steel'), ('Dark', 'Psychic'), ('Dark', 'Ghost'), ('Poison', 'Grass'), ('Poison', 'Fairy'), ('Fairy', 'Fighting'), ('Fairy', 'Dragon'), ('Fairy', 'Dark'), ('Psychic', 'Fighting'), ('Psychic', 'Poison'), ('Ghost', 'Psychic'), ('Ghost', 'Ghost')])"
      ]
     },
     "execution_count": 17,
     "metadata": {},
     "output_type": "execute_result"
    }
   ],
   "source": [
    "graph.edges"
   ]
  },
  {
   "cell_type": "markdown",
   "id": "6bbf85f4-2d33-4c9f-8572-59eab82fda9e",
   "metadata": {},
   "source": [
    "## Now we need to find 6 pokemon who are super effective against 3 types to be able to have a super effective pokemon against any pokemon type\n",
    "\n",
    "We calculate this by choosing six pokemon types out of a bag, and check if they have all eighteen types covered"
   ]
  },
  {
   "cell_type": "code",
   "execution_count": 33,
   "id": "5b25704e-995c-4005-8553-3dabc555afb2",
   "metadata": {},
   "outputs": [
    {
     "name": "stdout",
     "output_type": "stream",
     "text": [
      "Number of combinations: 18564\n",
      "Num combos that have all 18 types: 0\n"
     ]
    }
   ],
   "source": [
    "import itertools\n",
    "\n",
    "combos = {}\n",
    "for pk_type_combo in itertools.combinations(graph.nodes, 6):\n",
    "    effective_set = set()\n",
    "    for pk_type in pk_type_combo:\n",
    "        for effective_pk_type in graph[pk_type].keys():\n",
    "            effective_set.add(effective_pk_type)\n",
    "            \n",
    "    combos[pk_type_combo] = len(effective_set)\n",
    "    \n",
    "print(f\"Number of combinations: {len(combos)}\")\n",
    "print(f\"Num combos that have all 18 types: {len([x for k,v in combos.items() if v == 18])}\")"
   ]
  },
  {
   "cell_type": "code",
   "execution_count": 38,
   "id": "9d6df114-f302-4e29-8040-af69e74630dc",
   "metadata": {},
   "outputs": [
    {
     "data": {
      "text/plain": [
       "defaultdict(int,\n",
       "            {13: 4176,\n",
       "             15: 936,\n",
       "             12: 4513,\n",
       "             14: 2705,\n",
       "             11: 3261,\n",
       "             10: 1827,\n",
       "             16: 183,\n",
       "             9: 719,\n",
       "             8: 189,\n",
       "             7: 42,\n",
       "             17: 10,\n",
       "             6: 3})"
      ]
     },
     "execution_count": 38,
     "metadata": {},
     "output_type": "execute_result"
    }
   ],
   "source": [
    "from collections import defaultdict\n",
    "\n",
    "hist_values = defaultdict(int)\n",
    "\n",
    "for k, v in combos.items():\n",
    "    hist_values[v] += 1\n",
    "    \n",
    "hist_values"
   ]
  },
  {
   "cell_type": "markdown",
   "id": "6a03e9ef-01a9-4cbc-ae73-78e400400300",
   "metadata": {},
   "source": [
    "### Looks like there are only 10 combos that cover only max 17 types. What are those?"
   ]
  },
  {
   "cell_type": "code",
   "execution_count": 39,
   "id": "72678568-c8d9-4bbc-b078-38875a833de8",
   "metadata": {},
   "outputs": [
    {
     "name": "stdout",
     "output_type": "stream",
     "text": [
      "('Grass', 'Ice', 'Ground', 'Flying', 'Fighting', 'Dark')\n",
      "('Grass', 'Ice', 'Ground', 'Flying', 'Fighting', 'Ghost')\n",
      "('Grass', 'Ground', 'Rock', 'Dark', 'Poison', 'Fairy')\n",
      "('Grass', 'Ground', 'Rock', 'Poison', 'Fairy', 'Ghost')\n",
      "('Ice', 'Steel', 'Ground', 'Flying', 'Fighting', 'Dark')\n",
      "('Ice', 'Steel', 'Ground', 'Flying', 'Fighting', 'Ghost')\n",
      "('Ice', 'Ground', 'Electric', 'Flying', 'Fighting', 'Dark')\n",
      "('Ice', 'Ground', 'Electric', 'Flying', 'Fighting', 'Ghost')\n",
      "('Ice', 'Ground', 'Flying', 'Fighting', 'Dark', 'Poison')\n",
      "('Ice', 'Ground', 'Flying', 'Fighting', 'Poison', 'Ghost')\n"
     ]
    }
   ],
   "source": [
    "for k,v in combos.items():\n",
    "    if v == 17:\n",
    "        print(k)"
   ]
  },
  {
   "cell_type": "markdown",
   "id": "c05ec220-6a56-4858-b63a-fd1c092b4f19",
   "metadata": {},
   "source": [
    "## Wait a second, I believe my thinking is flawed here. We can always ADD more moves to cover the 18. What we really might want to do is choose the six that minimize exposure. Aka, choose six pokemon that will have the LEAST number of types that are super effective against them"
   ]
  },
  {
   "cell_type": "code",
   "execution_count": 40,
   "id": "6c29ff02-1f29-4445-8d05-bf9ba69e224b",
   "metadata": {},
   "outputs": [],
   "source": [
    "reversed_graph = nx.DiGraph()\n",
    "\n",
    "for edge in graph.edges:\n",
    "    reversed_graph.add_edge(edge[1], edge[0])"
   ]
  },
  {
   "cell_type": "code",
   "execution_count": 41,
   "id": "548938a0-e5c6-4ca0-9f77-f41280cc330d",
   "metadata": {},
   "outputs": [
    {
     "name": "stdout",
     "output_type": "stream",
     "text": [
      "Number of combinations: 18564\n"
     ]
    }
   ],
   "source": [
    "import itertools\n",
    "\n",
    "reversed_combos = {}\n",
    "for pk_type_combo in itertools.combinations(graph.nodes, 6):\n",
    "    effective_set = set()\n",
    "    for pk_type in pk_type_combo:\n",
    "        for effective_pk_type in reversed_graph[pk_type].keys():\n",
    "            effective_set.add(effective_pk_type)\n",
    "            \n",
    "    reversed_combos[pk_type_combo] = len(effective_set)\n",
    "    \n",
    "print(f\"Number of combinations: {len(reversed_combos)}\")"
   ]
  },
  {
   "cell_type": "code",
   "execution_count": 42,
   "id": "45986915-1551-4b0b-953d-78560e470cca",
   "metadata": {},
   "outputs": [
    {
     "data": {
      "text/plain": [
       "defaultdict(int,\n",
       "            {12: 5052,\n",
       "             11: 4146,\n",
       "             10: 2161,\n",
       "             14: 1813,\n",
       "             13: 3794,\n",
       "             15: 539,\n",
       "             16: 100,\n",
       "             9: 779,\n",
       "             8: 161,\n",
       "             7: 15,\n",
       "             17: 4})"
      ]
     },
     "execution_count": 42,
     "metadata": {},
     "output_type": "execute_result"
    }
   ],
   "source": [
    "from collections import defaultdict\n",
    "\n",
    "reversed_hist_values = defaultdict(int)\n",
    "\n",
    "for k, v in reversed_combos.items():\n",
    "    reversed_hist_values[v] += 1\n",
    "    \n",
    "reversed_hist_values"
   ]
  },
  {
   "cell_type": "markdown",
   "id": "565a56a5-d3df-4bbc-b6ea-c1703e43909d",
   "metadata": {},
   "source": [
    "### Looks like there are some where there exposure is limited to only 7 types! What are they?"
   ]
  },
  {
   "cell_type": "code",
   "execution_count": 43,
   "id": "6bcd0c81-3bef-4905-9def-3918782c39a0",
   "metadata": {},
   "outputs": [
    {
     "name": "stdout",
     "output_type": "stream",
     "text": [
      "('Fire', 'Ice', 'Bug', 'Steel', 'Electric', 'Normal')\n",
      "('Fire', 'Ice', 'Steel', 'Rock', 'Electric', 'Normal')\n",
      "('Fire', 'Ice', 'Steel', 'Electric', 'Normal', 'Poison')\n",
      "('Fire', 'Ice', 'Steel', 'Electric', 'Normal', 'Fairy')\n",
      "('Fire', 'Bug', 'Steel', 'Electric', 'Normal', 'Poison')\n",
      "('Fire', 'Water', 'Ground', 'Electric', 'Flying', 'Normal')\n",
      "('Fire', 'Water', 'Ground', 'Electric', 'Flying', 'Poison')\n",
      "('Ice', 'Bug', 'Steel', 'Electric', 'Normal', 'Poison')\n",
      "('Ice', 'Bug', 'Steel', 'Electric', 'Normal', 'Fairy')\n",
      "('Ice', 'Steel', 'Electric', 'Normal', 'Poison', 'Fairy')\n",
      "('Bug', 'Steel', 'Electric', 'Fighting', 'Normal', 'Poison')\n",
      "('Steel', 'Electric', 'Fighting', 'Normal', 'Dark', 'Poison')\n",
      "('Steel', 'Electric', 'Normal', 'Dark', 'Psychic', 'Ghost')\n",
      "('Steel', 'Electric', 'Normal', 'Poison', 'Psychic', 'Ghost')\n",
      "('Electric', 'Normal', 'Dark', 'Poison', 'Psychic', 'Ghost')\n"
     ]
    }
   ],
   "source": [
    "for k,v in reversed_combos.items():\n",
    "    if v == 7:\n",
    "        print(k)"
   ]
  },
  {
   "cell_type": "markdown",
   "id": "f871d45e-0a53-4618-8d58-387409d33cd9",
   "metadata": {},
   "source": [
    "### What what a combination! This is quite interesting indeed...Now, can we see how much overlap these types have? Take the first group for example. Say the other team has a pokemon that is effective against Fire. How many other types in our group will also be exposed?"
   ]
  },
  {
   "cell_type": "code",
   "execution_count": null,
   "id": "f41dd345-2a87-4b3e-a0fa-664b6995a1a6",
   "metadata": {},
   "outputs": [],
   "source": []
  }
 ],
 "metadata": {
  "kernelspec": {
   "display_name": "Python 3 (ipykernel)",
   "language": "python",
   "name": "python3"
  },
  "language_info": {
   "codemirror_mode": {
    "name": "ipython",
    "version": 3
   },
   "file_extension": ".py",
   "mimetype": "text/x-python",
   "name": "python",
   "nbconvert_exporter": "python",
   "pygments_lexer": "ipython3",
   "version": "3.9.6"
  }
 },
 "nbformat": 4,
 "nbformat_minor": 5
}
